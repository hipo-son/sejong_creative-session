{
 "cells": [
  {
   "cell_type": "code",
   "execution_count": 1,
   "metadata": {},
   "outputs": [],
   "source": [
    "# 내 맘대로 구성\n",
    "import numpy as np\n",
    "import scipy as sci\n",
    "import matplotlib.pyplot as plt"
   ]
  },
  {
   "cell_type": "code",
   "execution_count": 2,
   "metadata": {},
   "outputs": [],
   "source": [
    "# 훈련 데이터 처리 \n",
    "data_file=open(\"./data/mnist_train_100.csv\", 'r')\n",
    "data_list=data_file.readlines()\n",
    "data_file.close()\n",
    "\n",
    "z=0\n",
    "label_train=[]\n",
    "while z<100:\n",
    "    label_train.append(int(data_list[z][0])) # 레이블빼기\n",
    "    data_list[z]=data_list[z][1:].split(\",\") # 나머지 부해 저ㅇ\n",
    "    del data_list[z][0] # 앞ㅔ 빈칸 지우기\n",
    "    data_list[z][-1]=data_list[z][-1][0] # 마지막 줄바꿈 지우기\n",
    "    data_list[z]=np.array(data_list[z], np.int32) # 자료형 숫자로 변환\n",
    "    data_list[z]=data_list[z]*(0.99/250)+0.01 # 데이터를 준비\n",
    "    z+=1"
   ]
  },
  {
   "cell_type": "code",
   "execution_count": 3,
   "metadata": {},
   "outputs": [],
   "source": [
    "# 목표치 데이터 만들기. 학습해야하니까\n",
    "output_node_n=10\n",
    "\n",
    "targets=[]\n",
    "z=0\n",
    "while z<100:\n",
    "    target=np.zeros(10)+.01\n",
    "    target[label_train[z]]=.99\n",
    "    targets.append(target)\n",
    "    z+=1"
   ]
  },
  {
   "cell_type": "code",
   "execution_count": 4,
   "metadata": {},
   "outputs": [],
   "source": [
    "# 테스트 데이터 처리\n",
    "test_file=open(\"./data/mnist_test_10.csv\", 'r')\n",
    "test_list=test_file.readlines()\n",
    "test_file.close()\n",
    "\n",
    "z=0\n",
    "label_test=[]\n",
    "while z<10:\n",
    "    label_test.append(int(test_list[z][0])) # 레이블빼기\n",
    "    test_list[z]=test_list[z][1:].split(\",\") # 나머지 부해 저ㅇ\n",
    "    del test_list[z][0] # 앞ㅔ 빈칸 지우기\n",
    "    test_list[z][-1]=test_list[z][-1][0] # 마지막 줄바꿈 지우기\n",
    "    test_list[z]=np.array(test_list[z], np.int32) # 자료형 숫자로 변환\n",
    "    test_list[z]=test_list[z]*(0.99/250)+0.01 # 데이터를 준비\n",
    "    z+=1"
   ]
  },
  {
   "cell_type": "code",
   "execution_count": 5,
   "metadata": {},
   "outputs": [],
   "source": [
    "# 네트워크 정의\n",
    "class neural_network:\n",
    "    def __init__(self, inputnodes, hiddennodes, outputnodes, learninggrate):\n",
    "        self.inodes=inputnodes\n",
    "        self.hnodes=hiddennodes\n",
    "        self.onodes=outputnodes\n",
    "\n",
    "        self.wih=np.random.normal(.0, pow(self.hnodes, -.5), (self.hnodes, self.inodes))\n",
    "        self.who=np.random.normal(.0, pow(self.onodes, -.5), (self.onodes, self.hnodes))\n",
    "\n",
    "        self.lr=learninggrate\n",
    "\n",
    "        self.activation_fun=lambda x : 1 / (1 + np.exp(-x))\n",
    "        pass\n",
    "\n",
    "    def query(self, input_list): #질의\n",
    "        inputs=np.array(input_list, ndmin=2).T # 이거 차원을 2로 한다는게 뭔의미야?\n",
    "\n",
    "        hidden_inputs=np.dot(self.wih, inputs)\n",
    "        hidden_outputs=self.activation_fun(hidden_inputs)\n",
    "\n",
    "        final_input=np.dot(self.who ,hidden_outputs)\n",
    "        final_outputs=self.activation_fun(final_input)\n",
    "\n",
    "        return final_outputs\n",
    "\n",
    "\n",
    "    def train(self, input_list, target_lsit): # 학습\n",
    "        inputs=np.array(input_list, ndmin=2).T\n",
    "        target=np.array(target_lsit, ndmin=2).T\n",
    "\n",
    "        hidden_input=np.dot(self.wih, inputs)\n",
    "        hidden_output=self.activation_fun(hidden_input)\n",
    "\n",
    "        final_input=np.dot(self.who, hidden_output)\n",
    "        final_output=self.activation_fun(final_input)\n",
    "\n",
    "        # 오차 정의\n",
    "        output_err=target-final_output\n",
    "        hidden_err=np.dot(self.who.T, output_err)\n",
    "\n",
    "        # ho 역전파\n",
    "        delta_w1=self.lr*np.dot(output_err*final_output*(1-final_output), hidden_output.T)\n",
    "        self.who=self.who+delta_w1\n",
    "\n",
    "        # ih역전파\n",
    "        delta_w2=self.lr*np.dot(hidden_err*hidden_output*(1-hidden_output), inputs.T)\n",
    "        self.wih=self.wih+delta_w2\n",
    "        pass\n"
   ]
  },
  {
   "cell_type": "code",
   "execution_count": 6,
   "metadata": {},
   "outputs": [],
   "source": [
    "# 신경망 지정\n",
    "input_n=784\n",
    "hidden_n=100\n",
    "ouput_n=10\n",
    "\n",
    "learn_rate=.3\n",
    "\n",
    "n=neural_network(input_n ,hidden_n ,ouput_n, learn_rate)"
   ]
  },
  {
   "cell_type": "code",
   "execution_count": 7,
   "metadata": {},
   "outputs": [],
   "source": [
    "# 훈련\n",
    "h=0 # 어포취\n",
    "while h<3:\n",
    "    z=0\n",
    "    while z<100:\n",
    "        n.train(data_list[z], targets[z])\n",
    "        z+=1\n",
    "    h+=1"
   ]
  },
  {
   "cell_type": "code",
   "execution_count": 8,
   "metadata": {},
   "outputs": [
    {
     "name": "stdout",
     "output_type": "stream",
     "text": [
      "a: 0\n",
      "the real answer is 7\n",
      "my nn's answer is 7\n",
      "==================\n",
      "a: 1\n",
      "the real answer is 2\n",
      "my nn's answer is 2\n",
      "==================\n",
      "a: 2\n",
      "the real answer is 1\n",
      "my nn's answer is 1\n",
      "==================\n",
      "a: 3\n",
      "the real answer is 0\n",
      "my nn's answer is 0\n",
      "==================\n",
      "a: 4\n",
      "the real answer is 4\n",
      "my nn's answer is 4\n",
      "==================\n",
      "a: 5\n",
      "the real answer is 1\n",
      "my nn's answer is 1\n",
      "==================\n",
      "a: 6\n",
      "the real answer is 4\n",
      "my nn's answer is 4\n",
      "==================\n",
      "a: 7\n",
      "the real answer is 9\n",
      "my nn's answer is 4\n",
      "==================\n",
      "a: 8\n",
      "the real answer is 5\n",
      "my nn's answer is 4\n",
      "==================\n",
      "a: 9\n",
      "the real answer is 9\n",
      "my nn's answer is 4\n",
      "==================\n"
     ]
    }
   ],
   "source": [
    "# 테스트 데이터들을 모두 확인\n",
    "a=0\n",
    "fail=[]\n",
    "while a<10:\n",
    "    print(\"a:\",a)\n",
    "    print(\"the real answer is\",label_test[a])\n",
    "\n",
    "    re=n.query(test_list[a])\n",
    "    # print(\"result are\\n\",re)\n",
    "    b=np.max(re)\n",
    "    # print(a)\n",
    "    num,_=np.where(re==b)\n",
    "    num,=num\n",
    "    print(\"my nn's answer is\",num)\n",
    "    print(\"==================\")\n",
    "    if label_test[a]==num: pass\n",
    "    else:\n",
    "        fail.append(a)\n",
    "    a+=1\n"
   ]
  },
  {
   "cell_type": "code",
   "execution_count": 9,
   "metadata": {},
   "outputs": [
    {
     "name": "stdout",
     "output_type": "stream",
     "text": [
      "[7, 8, 9]\n"
     ]
    },
    {
     "data": {
      "image/png": "[encoded data removed]",
      "text/plain": [
       "<Figure size 432x288 with 1 Axes>"
      ]
     },
     "metadata": {
      "needs_background": "light"
     },
     "output_type": "display_data"
    },
    {
     "data": {
      "image/png": "[encoded data removed]",
      "text/plain": [
       "<Figure size 432x288 with 1 Axes>"
      ]
     },
     "metadata": {
      "needs_background": "light"
     },
     "output_type": "display_data"
    },
    {
     "data": {
      "image/png": "[encoded data removed]",
      "text/plain": [
       "<Figure size 432x288 with 1 Axes>"
      ]
     },
     "metadata": {
      "needs_background": "light"
     },
     "output_type": "display_data"
    }
   ],
   "source": [
    "# 틀린것 들이 어느정도 오해할만한것인지 출력해보기\n",
    "\n",
    "print(fail)\n",
    "z=0\n",
    "while z<len(fail):\n",
    "        \n",
    "    ima=np.array(test_list[fail[z]]).reshape((28,28))\n",
    "    plt.imshow(ima, cmap='Dark2', interpolation=\"None\")\n",
    "    plt.show()\n",
    "    z+=1"
   ]
  },
  {
   "cell_type": "code",
   "execution_count": null,
   "metadata": {},
   "outputs": [],
   "source": []
  }
 ],
 "metadata": {
  "interpreter": {
   "hash": "c744d740ca776f7babdffa687e04124c86aad33f67e851da7faee1e8b27aca0f"
  },
  "kernelspec": {
   "display_name": "Python 3.9.9 64-bit ('asd': conda)",
   "language": "python",
   "name": "python3"
  },
  "language_info": {
   "codemirror_mode": {
    "name": "ipython",
    "version": 3
   },
   "file_extension": ".py",
   "mimetype": "text/x-python",
   "name": "python",
   "nbconvert_exporter": "python",
   "pygments_lexer": "ipython3",
   "version": "3.9.10"
  },
  "orig_nbformat": 4
 },
 "nbformat": 4,
 "nbformat_minor": 2
}
